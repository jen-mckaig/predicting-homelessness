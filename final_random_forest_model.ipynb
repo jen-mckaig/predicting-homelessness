{
 "cells": [
  {
   "cell_type": "markdown",
   "metadata": {},
   "source": [
    "## Final Model"
   ]
  },
  {
   "cell_type": "code",
   "execution_count": 3,
   "metadata": {},
   "outputs": [],
   "source": [
    "import pandas as pd\n",
    "from sklearn import metrics\n",
    "from sklearn.model_selection import train_test_split\n",
    "from sklearn.model_selection import GridSearchCV,cross_val_score\n",
    "from sklearn.preprocessing import StandardScaler\n",
    "from sklearn.ensemble import RandomForestRegressor\n",
    "from sklearn.metrics import mean_squared_error, r2_score\n",
    "from sklearn.preprocessing import LabelEncoder\n",
    "import numpy as np\n",
    "import matplotlib.pyplot as plt\n",
    "%matplotlib inline"
   ]
  },
  {
   "cell_type": "code",
   "execution_count": 4,
   "metadata": {},
   "outputs": [],
   "source": [
    "df = pd.read_csv('data/features.csv')\n",
    "df.drop(['Unnamed: 0'], axis=1, inplace=True) "
   ]
  },
  {
   "cell_type": "code",
   "execution_count": 5,
   "metadata": {
    "scrolled": false
   },
   "outputs": [
    {
     "data": {
      "text/html": [
       "<div>\n",
       "<style scoped>\n",
       "    .dataframe tbody tr th:only-of-type {\n",
       "        vertical-align: middle;\n",
       "    }\n",
       "\n",
       "    .dataframe tbody tr th {\n",
       "        vertical-align: top;\n",
       "    }\n",
       "\n",
       "    .dataframe thead th {\n",
       "        text-align: right;\n",
       "    }\n",
       "</style>\n",
       "<table border=\"1\" class=\"dataframe\">\n",
       "  <thead>\n",
       "    <tr style=\"text-align: right;\">\n",
       "      <th></th>\n",
       "      <th>state</th>\n",
       "      <th>number</th>\n",
       "      <th>year</th>\n",
       "      <th>population</th>\n",
       "      <th>renter_occupied_households</th>\n",
       "      <th>eviction_filings</th>\n",
       "      <th>evictions</th>\n",
       "      <th>total_ssi</th>\n",
       "      <th>aged_ssi</th>\n",
       "      <th>disbl_ssi</th>\n",
       "      <th>...</th>\n",
       "      <th>pct_af_am</th>\n",
       "      <th>pct_hispanic</th>\n",
       "      <th>pct_am_ind</th>\n",
       "      <th>pct_asian</th>\n",
       "      <th>pct_nh_pi</th>\n",
       "      <th>pct_multiple</th>\n",
       "      <th>pct_other</th>\n",
       "      <th>homeless_count</th>\n",
       "      <th>smha_per_cap</th>\n",
       "      <th>total_smha</th>\n",
       "    </tr>\n",
       "  </thead>\n",
       "  <tbody>\n",
       "    <tr>\n",
       "      <th>0</th>\n",
       "      <td>alabama</td>\n",
       "      <td>AL-500</td>\n",
       "      <td>2007</td>\n",
       "      <td>845208</td>\n",
       "      <td>104742</td>\n",
       "      <td>3203</td>\n",
       "      <td>656</td>\n",
       "      <td>25480</td>\n",
       "      <td>1839</td>\n",
       "      <td>23641</td>\n",
       "      <td>...</td>\n",
       "      <td>25.15</td>\n",
       "      <td>3.43</td>\n",
       "      <td>0.20</td>\n",
       "      <td>1.44</td>\n",
       "      <td>0.03</td>\n",
       "      <td>0.77</td>\n",
       "      <td>0.12</td>\n",
       "      <td>2104</td>\n",
       "      <td>74.03</td>\n",
       "      <td>62570748.24</td>\n",
       "    </tr>\n",
       "    <tr>\n",
       "      <th>1</th>\n",
       "      <td>alabama</td>\n",
       "      <td>AL-500</td>\n",
       "      <td>2008</td>\n",
       "      <td>845208</td>\n",
       "      <td>105612</td>\n",
       "      <td>2172</td>\n",
       "      <td>976</td>\n",
       "      <td>25762</td>\n",
       "      <td>1722</td>\n",
       "      <td>24040</td>\n",
       "      <td>...</td>\n",
       "      <td>25.15</td>\n",
       "      <td>3.43</td>\n",
       "      <td>0.20</td>\n",
       "      <td>1.44</td>\n",
       "      <td>0.03</td>\n",
       "      <td>0.77</td>\n",
       "      <td>0.12</td>\n",
       "      <td>2104</td>\n",
       "      <td>79.39</td>\n",
       "      <td>67101063.12</td>\n",
       "    </tr>\n",
       "    <tr>\n",
       "      <th>2</th>\n",
       "      <td>alabama</td>\n",
       "      <td>AL-500</td>\n",
       "      <td>2009</td>\n",
       "      <td>845208</td>\n",
       "      <td>106482</td>\n",
       "      <td>1785</td>\n",
       "      <td>945</td>\n",
       "      <td>26244</td>\n",
       "      <td>1615</td>\n",
       "      <td>24629</td>\n",
       "      <td>...</td>\n",
       "      <td>25.15</td>\n",
       "      <td>3.43</td>\n",
       "      <td>0.20</td>\n",
       "      <td>1.44</td>\n",
       "      <td>0.03</td>\n",
       "      <td>0.77</td>\n",
       "      <td>0.12</td>\n",
       "      <td>2273</td>\n",
       "      <td>77.89</td>\n",
       "      <td>65833251.12</td>\n",
       "    </tr>\n",
       "    <tr>\n",
       "      <th>3</th>\n",
       "      <td>alabama</td>\n",
       "      <td>AL-500</td>\n",
       "      <td>2010</td>\n",
       "      <td>853551</td>\n",
       "      <td>107353</td>\n",
       "      <td>2486</td>\n",
       "      <td>1605</td>\n",
       "      <td>27098</td>\n",
       "      <td>1525</td>\n",
       "      <td>25573</td>\n",
       "      <td>...</td>\n",
       "      <td>26.20</td>\n",
       "      <td>4.90</td>\n",
       "      <td>0.22</td>\n",
       "      <td>1.64</td>\n",
       "      <td>0.02</td>\n",
       "      <td>0.99</td>\n",
       "      <td>0.10</td>\n",
       "      <td>2273</td>\n",
       "      <td>78.19</td>\n",
       "      <td>66739152.69</td>\n",
       "    </tr>\n",
       "    <tr>\n",
       "      <th>4</th>\n",
       "      <td>alabama</td>\n",
       "      <td>AL-500</td>\n",
       "      <td>2011</td>\n",
       "      <td>862556</td>\n",
       "      <td>108846</td>\n",
       "      <td>3708</td>\n",
       "      <td>2257</td>\n",
       "      <td>27532</td>\n",
       "      <td>1459</td>\n",
       "      <td>26073</td>\n",
       "      <td>...</td>\n",
       "      <td>26.95</td>\n",
       "      <td>4.82</td>\n",
       "      <td>0.23</td>\n",
       "      <td>1.80</td>\n",
       "      <td>0.02</td>\n",
       "      <td>1.10</td>\n",
       "      <td>0.16</td>\n",
       "      <td>1950</td>\n",
       "      <td>78.33</td>\n",
       "      <td>67564011.48</td>\n",
       "    </tr>\n",
       "  </tbody>\n",
       "</table>\n",
       "<p>5 rows × 33 columns</p>\n",
       "</div>"
      ],
      "text/plain": [
       "     state  number  year  population  renter_occupied_households  \\\n",
       "0  alabama  AL-500  2007      845208                      104742   \n",
       "1  alabama  AL-500  2008      845208                      105612   \n",
       "2  alabama  AL-500  2009      845208                      106482   \n",
       "3  alabama  AL-500  2010      853551                      107353   \n",
       "4  alabama  AL-500  2011      862556                      108846   \n",
       "\n",
       "   eviction_filings  evictions  total_ssi  aged_ssi  disbl_ssi  ...  \\\n",
       "0              3203        656      25480      1839      23641  ...   \n",
       "1              2172        976      25762      1722      24040  ...   \n",
       "2              1785        945      26244      1615      24629  ...   \n",
       "3              2486       1605      27098      1525      25573  ...   \n",
       "4              3708       2257      27532      1459      26073  ...   \n",
       "\n",
       "   pct_af_am  pct_hispanic  pct_am_ind  pct_asian  pct_nh_pi  pct_multiple  \\\n",
       "0      25.15          3.43        0.20       1.44       0.03          0.77   \n",
       "1      25.15          3.43        0.20       1.44       0.03          0.77   \n",
       "2      25.15          3.43        0.20       1.44       0.03          0.77   \n",
       "3      26.20          4.90        0.22       1.64       0.02          0.99   \n",
       "4      26.95          4.82        0.23       1.80       0.02          1.10   \n",
       "\n",
       "   pct_other  homeless_count  smha_per_cap   total_smha  \n",
       "0       0.12            2104         74.03  62570748.24  \n",
       "1       0.12            2104         79.39  67101063.12  \n",
       "2       0.12            2273         77.89  65833251.12  \n",
       "3       0.10            2273         78.19  66739152.69  \n",
       "4       0.16            1950         78.33  67564011.48  \n",
       "\n",
       "[5 rows x 33 columns]"
      ]
     },
     "execution_count": 5,
     "metadata": {},
     "output_type": "execute_result"
    }
   ],
   "source": [
    "df.head()"
   ]
  },
  {
   "cell_type": "code",
   "execution_count": 6,
   "metadata": {},
   "outputs": [
    {
     "data": {
      "text/plain": [
       "(3157, 33)"
      ]
     },
     "execution_count": 6,
     "metadata": {},
     "output_type": "execute_result"
    }
   ],
   "source": [
    "df.shape"
   ]
  },
  {
   "cell_type": "code",
   "execution_count": 7,
   "metadata": {},
   "outputs": [],
   "source": [
    "# encode the state and coc-numbers"
   ]
  },
  {
   "cell_type": "code",
   "execution_count": 8,
   "metadata": {},
   "outputs": [],
   "source": [
    "label_encoder = LabelEncoder()\n",
    "label_encoder.fit(df.state)\n",
    "df['state_code'] = label_encoder.transform(df.state)\n",
    "\n",
    "label_encoder.fit(df.number)\n",
    "df['coc'] = label_encoder.transform(df.number)\n",
    "\n",
    "df.drop(['state','number'],axis=1,inplace=True)"
   ]
  },
  {
   "cell_type": "code",
   "execution_count": 9,
   "metadata": {},
   "outputs": [],
   "source": [
    "#train-test-split"
   ]
  },
  {
   "cell_type": "code",
   "execution_count": 10,
   "metadata": {},
   "outputs": [],
   "source": [
    "target = df['homeless_count']\n",
    "features = df.drop('homeless_count', axis=1)\n",
    "\n",
    "X_train, X_test, y_train, y_test = train_test_split(features, target, random_state=1,test_size=0.2)"
   ]
  },
  {
   "cell_type": "code",
   "execution_count": 11,
   "metadata": {},
   "outputs": [],
   "source": [
    "#Grid Search\n",
    "parameters={'max_depth': (14, 20, 2),'n_estimators': [100,500,1000],\n",
    "            'min_samples_split': (2,11,2), 'max_samples':[.3,.5],\n",
    "            'criterion': ['mse']}\n",
    "\n",
    "rf_reg = RandomForestRegressor(random_state = 42)\n",
    "grid_forest = GridSearchCV(rf_reg, parameters, cv=5)"
   ]
  },
  {
   "cell_type": "code",
   "execution_count": 12,
   "metadata": {},
   "outputs": [
    {
     "name": "stdout",
     "output_type": "stream",
     "text": [
      "0.8953457501979312\n",
      "{'criterion': 'mse', 'max_depth': 14, 'max_samples': 0.5, 'min_samples_split': 2, 'n_estimators': 1000}\n",
      "RandomForestRegressor(bootstrap=True, ccp_alpha=0.0, criterion='mse',\n",
      "                      max_depth=14, max_features='auto', max_leaf_nodes=None,\n",
      "                      max_samples=0.5, min_impurity_decrease=0.0,\n",
      "                      min_impurity_split=None, min_samples_leaf=1,\n",
      "                      min_samples_split=2, min_weight_fraction_leaf=0.0,\n",
      "                      n_estimators=1000, n_jobs=None, oob_score=False,\n",
      "                      random_state=42, verbose=0, warm_start=False)\n"
     ]
    }
   ],
   "source": [
    "grid_forest = grid_forest.fit(X_train, y_train)\n",
    "print(grid_forest.best_score_)\n",
    "print(grid_forest.best_params_)\n",
    "print(grid_forest.best_estimator_)"
   ]
  },
  {
   "cell_type": "code",
   "execution_count": 13,
   "metadata": {},
   "outputs": [
    {
     "name": "stdout",
     "output_type": "stream",
     "text": [
      "r2_score: 0.9405724936737201\n",
      "MSE: 396580.5163363079\n",
      "MAE: 300.7510859936927\n"
     ]
    }
   ],
   "source": [
    "y_pred = grid_forest.best_estimator_.predict(X_test)\n",
    "print(\"r2_score:\",metrics.r2_score(y_test, y_pred))\n",
    "print(\"MSE:\",metrics.mean_squared_error(y_test, y_pred))\n",
    "print(\"MAE:\",metrics.mean_absolute_error(y_test, y_pred))"
   ]
  },
  {
   "cell_type": "code",
   "execution_count": 14,
   "metadata": {},
   "outputs": [
    {
     "name": "stdout",
     "output_type": "stream",
     "text": [
      "r2_score: 0.9405724936737201\n",
      "oob score: 0.9253879938402909\n",
      "MSE score: 396580.5163363079\n",
      "MAE score: 300.7510859936927\n"
     ]
    }
   ],
   "source": [
    "r_forest = RandomForestRegressor(bootstrap=True, ccp_alpha=0.0, criterion='mse',\n",
    "                      max_depth=14, max_features='auto', max_leaf_nodes=None,\n",
    "                      max_samples=0.5, min_impurity_decrease=0.0,\n",
    "                      min_impurity_split=None, min_samples_leaf=1,\n",
    "                      min_samples_split=2, min_weight_fraction_leaf=0.0,\n",
    "                      n_estimators=1000, n_jobs=None, oob_score=True,\n",
    "                      random_state=42, verbose=0, warm_start=False)\n",
    "r_forest.fit(X_train, y_train)\n",
    "predict_test = r_forest.predict(X_test)\n",
    "print(\"r2_score:\", metrics.r2_score(y_test,predict_test))\n",
    "print(\"oob score:\",r_forest.oob_score_)\n",
    "print(\"MSE score:\",metrics.mean_squared_error(y_test, predict_test))\n",
    "print(\"MAE score:\",metrics.mean_absolute_error(y_test, predict_test))"
   ]
  },
  {
   "cell_type": "code",
   "execution_count": 15,
   "metadata": {},
   "outputs": [],
   "source": [
    "#explore feature importances"
   ]
  },
  {
   "cell_type": "code",
   "execution_count": 16,
   "metadata": {},
   "outputs": [],
   "source": [
    "feature_importances = pd.DataFrame(r_forest.feature_importances_, index = X_train.columns, columns=['importance']).sort_values('importance',ascending=False)"
   ]
  },
  {
   "cell_type": "code",
   "execution_count": 17,
   "metadata": {},
   "outputs": [
    {
     "data": {
      "text/html": [
       "<div>\n",
       "<style scoped>\n",
       "    .dataframe tbody tr th:only-of-type {\n",
       "        vertical-align: middle;\n",
       "    }\n",
       "\n",
       "    .dataframe tbody tr th {\n",
       "        vertical-align: top;\n",
       "    }\n",
       "\n",
       "    .dataframe thead th {\n",
       "        text-align: right;\n",
       "    }\n",
       "</style>\n",
       "<table border=\"1\" class=\"dataframe\">\n",
       "  <thead>\n",
       "    <tr style=\"text-align: right;\">\n",
       "      <th></th>\n",
       "      <th>importance</th>\n",
       "    </tr>\n",
       "  </thead>\n",
       "  <tbody>\n",
       "    <tr>\n",
       "      <th>renter_occupied_households</th>\n",
       "      <td>0.231645</td>\n",
       "    </tr>\n",
       "    <tr>\n",
       "      <th>aged_ssi</th>\n",
       "      <td>0.191386</td>\n",
       "    </tr>\n",
       "    <tr>\n",
       "      <th>pct_nh_pi</th>\n",
       "      <td>0.095928</td>\n",
       "    </tr>\n",
       "    <tr>\n",
       "      <th>65_ovr_ssi</th>\n",
       "      <td>0.077287</td>\n",
       "    </tr>\n",
       "    <tr>\n",
       "      <th>pct_white</th>\n",
       "      <td>0.071346</td>\n",
       "    </tr>\n",
       "    <tr>\n",
       "      <th>pct_renter_occupied</th>\n",
       "      <td>0.031773</td>\n",
       "    </tr>\n",
       "    <tr>\n",
       "      <th>total_ssi</th>\n",
       "      <td>0.027573</td>\n",
       "    </tr>\n",
       "    <tr>\n",
       "      <th>disbl_ssi</th>\n",
       "      <td>0.024432</td>\n",
       "    </tr>\n",
       "    <tr>\n",
       "      <th>18_und_ssi</th>\n",
       "      <td>0.019067</td>\n",
       "    </tr>\n",
       "    <tr>\n",
       "      <th>pct_af_am</th>\n",
       "      <td>0.017726</td>\n",
       "    </tr>\n",
       "  </tbody>\n",
       "</table>\n",
       "</div>"
      ],
      "text/plain": [
       "                            importance\n",
       "renter_occupied_households    0.231645\n",
       "aged_ssi                      0.191386\n",
       "pct_nh_pi                     0.095928\n",
       "65_ovr_ssi                    0.077287\n",
       "pct_white                     0.071346\n",
       "pct_renter_occupied           0.031773\n",
       "total_ssi                     0.027573\n",
       "disbl_ssi                     0.024432\n",
       "18_und_ssi                    0.019067\n",
       "pct_af_am                     0.017726"
      ]
     },
     "execution_count": 17,
     "metadata": {},
     "output_type": "execute_result"
    }
   ],
   "source": [
    "feature_importances[0:10]"
   ]
  },
  {
   "cell_type": "code",
   "execution_count": 18,
   "metadata": {},
   "outputs": [
    {
     "data": {
      "image/png": "[encoded data removed]",
      "text/plain": [
       "<Figure size 720x360 with 1 Axes>"
      ]
     },
     "metadata": {
      "needs_background": "light"
     },
     "output_type": "display_data"
    }
   ],
   "source": [
    "# list of x locations for plotting\n",
    "x_values = list(range(len(feature_importances)))\n",
    "# Make a bar chart\n",
    "fig, ax = plt.subplots(figsize=(10,5))\n",
    "plt.bar(x_values, feature_importances.importance, orientation = 'vertical', color = 'tomato', edgecolor = 'k', linewidth = 1.2)\n",
    "# Tick labels for x axis\n",
    "plt.xticks(x_values, feature_importances.index, rotation='vertical')\n",
    "# Axis labels and title\n",
    "plt.ylabel('Importance'); plt.xlabel('Variable'); plt.title('Variable Importances');"
   ]
  },
  {
   "cell_type": "code",
   "execution_count": 19,
   "metadata": {},
   "outputs": [],
   "source": [
    "cumulative_importances = np.cumsum(feature_importances.importance)"
   ]
  },
  {
   "cell_type": "code",
   "execution_count": 20,
   "metadata": {
    "scrolled": true
   },
   "outputs": [
    {
     "data": {
      "image/png": "[encoded data removed]",
      "text/plain": [
       "<Figure size 432x288 with 1 Axes>"
      ]
     },
     "metadata": {
      "needs_background": "light"
     },
     "output_type": "display_data"
    }
   ],
   "source": [
    "plt.plot(x_values, cumulative_importances, 'g-')\n",
    "# Draw line at 95% of importance retained\n",
    "plt.hlines(y = 0.95, xmin=0, xmax=len(feature_importances), color = 'r', linestyles = 'dashed')\n",
    "# Format x ticks and labels\n",
    "plt.xticks(x_values, feature_importances.index, rotation = 'vertical')\n",
    "# Axis labels and title\n",
    "plt.xlabel('Variable'); plt.ylabel('Cumulative Importance'); plt.title('Cumulative Importances');\n"
   ]
  },
  {
   "cell_type": "code",
   "execution_count": 21,
   "metadata": {},
   "outputs": [
    {
     "name": "stdout",
     "output_type": "stream",
     "text": [
      "Number of features for 95% importance: 23\n"
     ]
    }
   ],
   "source": [
    "# Find number of features for cumulative importance of 95%\n",
    "print('Number of features for 95% importance:', np.where(cumulative_importances > 0.95)[0][0] + 1)"
   ]
  },
  {
   "cell_type": "code",
   "execution_count": 22,
   "metadata": {},
   "outputs": [],
   "source": [
    "feature_importances.reset_index(inplace=True)"
   ]
  },
  {
   "cell_type": "code",
   "execution_count": 23,
   "metadata": {},
   "outputs": [],
   "source": [
    "feature_importances.rename({'index': 'feature'}, axis=1, inplace=True)\n",
    "feature_list = list(features.columns)"
   ]
  },
  {
   "cell_type": "code",
   "execution_count": 24,
   "metadata": {},
   "outputs": [],
   "source": [
    "# Extract the names of the most important features\n",
    "important_feature_names = [feature for feature in feature_importances.feature[0:23]]"
   ]
  },
  {
   "cell_type": "code",
   "execution_count": 25,
   "metadata": {},
   "outputs": [
    {
     "name": "stdout",
     "output_type": "stream",
     "text": [
      "Important train features shape: (2525, 23)\n",
      "Important test features shape: (632, 23)\n"
     ]
    }
   ],
   "source": [
    "# Find the columns of the most important features\n",
    "important_indices = [feature_list.index(feature) for feature in important_feature_names]\n",
    "\n",
    "# Create training and testing sets with only the important features\n",
    "important_train_features = X_train.iloc[:, important_indices]\n",
    "important_test_features = X_test.iloc[:, important_indices]\n",
    "# Sanity check on operations\n",
    "print('Important train features shape:', important_train_features.shape)\n",
    "print('Important test features shape:', important_test_features.shape)"
   ]
  },
  {
   "cell_type": "code",
   "execution_count": 32,
   "metadata": {},
   "outputs": [],
   "source": [
    "# Grid Search with top 95% features"
   ]
  },
  {
   "cell_type": "code",
   "execution_count": null,
   "metadata": {},
   "outputs": [],
   "source": [
    "# Model with most impactful features"
   ]
  },
  {
   "cell_type": "code",
   "execution_count": 35,
   "metadata": {},
   "outputs": [],
   "source": [
    "ran_forest = RandomForestRegressor(bootstrap=True, ccp_alpha=0.0, criterion='mse',\n",
    "                      max_depth=14, max_features='auto', max_leaf_nodes=None,\n",
    "                      max_samples=0.5, min_impurity_decrease=0.0,\n",
    "                      min_impurity_split=None, min_samples_leaf=1,\n",
    "                      min_samples_split=2, min_weight_fraction_leaf=0.0,\n",
    "                      n_estimators=1000, n_jobs=None, oob_score=True,\n",
    "                      random_state=42, verbose=0, warm_start=False)"
   ]
  },
  {
   "cell_type": "code",
   "execution_count": 36,
   "metadata": {},
   "outputs": [
    {
     "name": "stdout",
     "output_type": "stream",
     "text": [
      "r2_score: 0.9443576928202196\n",
      "oob score: 0.9278691994129691\n",
      "MSE score: 371320.5597143228\n",
      "MAE score: 288.23230959381715\n"
     ]
    }
   ],
   "source": [
    "ran_forest.fit(important_train_features, y_train)\n",
    "predict_ = ran_forest.predict(important_test_features)\n",
    "print(\"r2_score:\", metrics.r2_score(y_test,predict_))\n",
    "print(\"oob score:\",ran_forest.oob_score_)\n",
    "print(\"MSE score:\",metrics.mean_squared_error(y_test, predict_))\n",
    "print(\"MAE score:\",metrics.mean_absolute_error(y_test, predict_))"
   ]
  },
  {
   "cell_type": "code",
   "execution_count": 37,
   "metadata": {},
   "outputs": [],
   "source": [
    "top_features = pd.DataFrame(ran_forest.feature_importances_, index = important_test_features.columns, columns=['importance']).sort_values('importance',ascending=False)"
   ]
  },
  {
   "cell_type": "code",
   "execution_count": 40,
   "metadata": {},
   "outputs": [
    {
     "data": {
      "image/png": "[encoded data removed]",
      "text/plain": [
       "<Figure size 720x360 with 1 Axes>"
      ]
     },
     "metadata": {
      "needs_background": "light"
     },
     "output_type": "display_data"
    }
   ],
   "source": [
    "# list of x locations for plotting\n",
    "x_values = list(range(len(top_features)))\n",
    "# Make a bar chart\n",
    "fig, ax = plt.subplots(figsize=(10,5))\n",
    "plt.bar(x_values, top_features.importance, orientation = 'vertical', color = 'turquoise', edgecolor = 'k', linewidth = 1.2)\n",
    "# Tick labels for x axis\n",
    "plt.xticks(x_values, top_features.index, rotation='vertical')\n",
    "# Axis labels and title\n",
    "plt.ylabel('Importance'); plt.xlabel('Variable'); plt.title('Variable Importances');"
   ]
  }
 ],
 "metadata": {
  "kernelspec": {
   "display_name": "Python 3",
   "language": "python",
   "name": "python3"
  },
  "language_info": {
   "codemirror_mode": {
    "name": "ipython",
    "version": 3
   },
   "file_extension": ".py",
   "mimetype": "text/x-python",
   "name": "python",
   "nbconvert_exporter": "python",
   "pygments_lexer": "ipython3",
   "version": "3.7.6"
  }
 },
 "nbformat": 4,
 "nbformat_minor": 2
}
